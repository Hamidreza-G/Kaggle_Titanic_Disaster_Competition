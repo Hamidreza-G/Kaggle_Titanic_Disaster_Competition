{
 "cells": [
  {
   "cell_type": "markdown",
   "id": "7d0e0746",
   "metadata": {},
   "source": [
    "### Titanic - Machine Learning from Disaster"
   ]
  },
  {
   "cell_type": "code",
   "execution_count": 1,
   "id": "ac9256c2",
   "metadata": {},
   "outputs": [],
   "source": [
    "import numpy as np\n",
    "import pandas as pd\n",
    "import matplotlib.pyplot as plt\n",
    "from sklearn import model_selection\n",
    "from sklearn import ensemble\n",
    "from sklearn import svm\n",
    "from sklearn import linear_model\n",
    "from sklearn.model_selection import train_test_split\n",
    "import seaborn as sns\n",
    "import warnings\n",
    "warnings.filterwarnings('ignore')"
   ]
  },
  {
   "cell_type": "code",
   "execution_count": 2,
   "id": "3b89c03a",
   "metadata": {},
   "outputs": [],
   "source": [
    "# load the full training and test data\n",
    "train_df = pd.read_csv(\"train.csv\", index_col='PassengerId')\n",
    "test_df = pd.read_csv(\"test.csv\", index_col='PassengerId')\n",
    "\n",
    "y = train_df[\"Survived\"]"
   ]
  },
  {
   "cell_type": "markdown",
   "id": "b5810a7f",
   "metadata": {},
   "source": [
    "### Distribution of Labels"
   ]
  },
  {
   "cell_type": "code",
   "execution_count": 3,
   "id": "3591bd1e",
   "metadata": {
    "scrolled": true
   },
   "outputs": [
    {
     "data": {
      "image/png": "[encoded data removed]",
      "text/plain": [
       "<Figure size 432x288 with 1 Axes>"
      ]
     },
     "metadata": {
      "needs_background": "light"
     },
     "output_type": "display_data"
    }
   ],
   "source": [
    "b = sns.countplot(x='Survived', data=train_df)\n",
    "b.set_title('Train Data Labels', fontsize=18)\n",
    "b.set_ylabel(\"Count\", fontsize=13)\n",
    "b.set_xlabel(\"0: Not Survived and 1: Survived\");"
   ]
  },
  {
   "cell_type": "code",
   "execution_count": 4,
   "id": "b9c3ed84",
   "metadata": {
    "scrolled": false
   },
   "outputs": [
    {
     "data": {
      "text/html": [
       "<div>\n",
       "<style scoped>\n",
       "    .dataframe tbody tr th:only-of-type {\n",
       "        vertical-align: middle;\n",
       "    }\n",
       "\n",
       "    .dataframe tbody tr th {\n",
       "        vertical-align: top;\n",
       "    }\n",
       "\n",
       "    .dataframe thead th {\n",
       "        text-align: right;\n",
       "    }\n",
       "</style>\n",
       "<table border=\"1\" class=\"dataframe\">\n",
       "  <thead>\n",
       "    <tr style=\"text-align: right;\">\n",
       "      <th></th>\n",
       "      <th>Pclass</th>\n",
       "      <th>Name</th>\n",
       "      <th>Sex</th>\n",
       "      <th>Age</th>\n",
       "      <th>SibSp</th>\n",
       "      <th>Parch</th>\n",
       "      <th>Ticket</th>\n",
       "      <th>Fare</th>\n",
       "      <th>Cabin</th>\n",
       "      <th>Embarked</th>\n",
       "    </tr>\n",
       "    <tr>\n",
       "      <th>PassengerId</th>\n",
       "      <th></th>\n",
       "      <th></th>\n",
       "      <th></th>\n",
       "      <th></th>\n",
       "      <th></th>\n",
       "      <th></th>\n",
       "      <th></th>\n",
       "      <th></th>\n",
       "      <th></th>\n",
       "      <th></th>\n",
       "    </tr>\n",
       "  </thead>\n",
       "  <tbody>\n",
       "    <tr>\n",
       "      <th>1</th>\n",
       "      <td>3</td>\n",
       "      <td>Braund, Mr. Owen Harris</td>\n",
       "      <td>male</td>\n",
       "      <td>22.0</td>\n",
       "      <td>1</td>\n",
       "      <td>0</td>\n",
       "      <td>A/5 21171</td>\n",
       "      <td>7.2500</td>\n",
       "      <td>NaN</td>\n",
       "      <td>S</td>\n",
       "    </tr>\n",
       "    <tr>\n",
       "      <th>2</th>\n",
       "      <td>1</td>\n",
       "      <td>Cumings, Mrs. John Bradley (Florence Briggs Th...</td>\n",
       "      <td>female</td>\n",
       "      <td>38.0</td>\n",
       "      <td>1</td>\n",
       "      <td>0</td>\n",
       "      <td>PC 17599</td>\n",
       "      <td>71.2833</td>\n",
       "      <td>C85</td>\n",
       "      <td>C</td>\n",
       "    </tr>\n",
       "    <tr>\n",
       "      <th>3</th>\n",
       "      <td>3</td>\n",
       "      <td>Heikkinen, Miss. Laina</td>\n",
       "      <td>female</td>\n",
       "      <td>26.0</td>\n",
       "      <td>0</td>\n",
       "      <td>0</td>\n",
       "      <td>STON/O2. 3101282</td>\n",
       "      <td>7.9250</td>\n",
       "      <td>NaN</td>\n",
       "      <td>S</td>\n",
       "    </tr>\n",
       "    <tr>\n",
       "      <th>4</th>\n",
       "      <td>1</td>\n",
       "      <td>Futrelle, Mrs. Jacques Heath (Lily May Peel)</td>\n",
       "      <td>female</td>\n",
       "      <td>35.0</td>\n",
       "      <td>1</td>\n",
       "      <td>0</td>\n",
       "      <td>113803</td>\n",
       "      <td>53.1000</td>\n",
       "      <td>C123</td>\n",
       "      <td>S</td>\n",
       "    </tr>\n",
       "    <tr>\n",
       "      <th>5</th>\n",
       "      <td>3</td>\n",
       "      <td>Allen, Mr. William Henry</td>\n",
       "      <td>male</td>\n",
       "      <td>35.0</td>\n",
       "      <td>0</td>\n",
       "      <td>0</td>\n",
       "      <td>373450</td>\n",
       "      <td>8.0500</td>\n",
       "      <td>NaN</td>\n",
       "      <td>S</td>\n",
       "    </tr>\n",
       "    <tr>\n",
       "      <th>...</th>\n",
       "      <td>...</td>\n",
       "      <td>...</td>\n",
       "      <td>...</td>\n",
       "      <td>...</td>\n",
       "      <td>...</td>\n",
       "      <td>...</td>\n",
       "      <td>...</td>\n",
       "      <td>...</td>\n",
       "      <td>...</td>\n",
       "      <td>...</td>\n",
       "    </tr>\n",
       "    <tr>\n",
       "      <th>1305</th>\n",
       "      <td>3</td>\n",
       "      <td>Spector, Mr. Woolf</td>\n",
       "      <td>male</td>\n",
       "      <td>NaN</td>\n",
       "      <td>0</td>\n",
       "      <td>0</td>\n",
       "      <td>A.5. 3236</td>\n",
       "      <td>8.0500</td>\n",
       "      <td>NaN</td>\n",
       "      <td>S</td>\n",
       "    </tr>\n",
       "    <tr>\n",
       "      <th>1306</th>\n",
       "      <td>1</td>\n",
       "      <td>Oliva y Ocana, Dona. Fermina</td>\n",
       "      <td>female</td>\n",
       "      <td>39.0</td>\n",
       "      <td>0</td>\n",
       "      <td>0</td>\n",
       "      <td>PC 17758</td>\n",
       "      <td>108.9000</td>\n",
       "      <td>C105</td>\n",
       "      <td>C</td>\n",
       "    </tr>\n",
       "    <tr>\n",
       "      <th>1307</th>\n",
       "      <td>3</td>\n",
       "      <td>Saether, Mr. Simon Sivertsen</td>\n",
       "      <td>male</td>\n",
       "      <td>38.5</td>\n",
       "      <td>0</td>\n",
       "      <td>0</td>\n",
       "      <td>SOTON/O.Q. 3101262</td>\n",
       "      <td>7.2500</td>\n",
       "      <td>NaN</td>\n",
       "      <td>S</td>\n",
       "    </tr>\n",
       "    <tr>\n",
       "      <th>1308</th>\n",
       "      <td>3</td>\n",
       "      <td>Ware, Mr. Frederick</td>\n",
       "      <td>male</td>\n",
       "      <td>NaN</td>\n",
       "      <td>0</td>\n",
       "      <td>0</td>\n",
       "      <td>359309</td>\n",
       "      <td>8.0500</td>\n",
       "      <td>NaN</td>\n",
       "      <td>S</td>\n",
       "    </tr>\n",
       "    <tr>\n",
       "      <th>1309</th>\n",
       "      <td>3</td>\n",
       "      <td>Peter, Master. Michael J</td>\n",
       "      <td>male</td>\n",
       "      <td>NaN</td>\n",
       "      <td>1</td>\n",
       "      <td>1</td>\n",
       "      <td>2668</td>\n",
       "      <td>22.3583</td>\n",
       "      <td>NaN</td>\n",
       "      <td>C</td>\n",
       "    </tr>\n",
       "  </tbody>\n",
       "</table>\n",
       "<p>1309 rows × 10 columns</p>\n",
       "</div>"
      ],
      "text/plain": [
       "             Pclass                                               Name  \\\n",
       "PassengerId                                                              \n",
       "1                 3                            Braund, Mr. Owen Harris   \n",
       "2                 1  Cumings, Mrs. John Bradley (Florence Briggs Th...   \n",
       "3                 3                             Heikkinen, Miss. Laina   \n",
       "4                 1       Futrelle, Mrs. Jacques Heath (Lily May Peel)   \n",
       "5                 3                           Allen, Mr. William Henry   \n",
       "...             ...                                                ...   \n",
       "1305              3                                 Spector, Mr. Woolf   \n",
       "1306              1                       Oliva y Ocana, Dona. Fermina   \n",
       "1307              3                       Saether, Mr. Simon Sivertsen   \n",
       "1308              3                                Ware, Mr. Frederick   \n",
       "1309              3                           Peter, Master. Michael J   \n",
       "\n",
       "                Sex   Age  SibSp  Parch              Ticket      Fare Cabin  \\\n",
       "PassengerId                                                                   \n",
       "1              male  22.0      1      0           A/5 21171    7.2500   NaN   \n",
       "2            female  38.0      1      0            PC 17599   71.2833   C85   \n",
       "3            female  26.0      0      0    STON/O2. 3101282    7.9250   NaN   \n",
       "4            female  35.0      1      0              113803   53.1000  C123   \n",
       "5              male  35.0      0      0              373450    8.0500   NaN   \n",
       "...             ...   ...    ...    ...                 ...       ...   ...   \n",
       "1305           male   NaN      0      0           A.5. 3236    8.0500   NaN   \n",
       "1306         female  39.0      0      0            PC 17758  108.9000  C105   \n",
       "1307           male  38.5      0      0  SOTON/O.Q. 3101262    7.2500   NaN   \n",
       "1308           male   NaN      0      0              359309    8.0500   NaN   \n",
       "1309           male   NaN      1      1                2668   22.3583   NaN   \n",
       "\n",
       "            Embarked  \n",
       "PassengerId           \n",
       "1                  S  \n",
       "2                  C  \n",
       "3                  S  \n",
       "4                  S  \n",
       "5                  S  \n",
       "...              ...  \n",
       "1305               S  \n",
       "1306               C  \n",
       "1307               S  \n",
       "1308               S  \n",
       "1309               C  \n",
       "\n",
       "[1309 rows x 10 columns]"
      ]
     },
     "execution_count": 4,
     "metadata": {},
     "output_type": "execute_result"
    }
   ],
   "source": [
    "train_df = train_df.drop(['Survived'], axis=1)\n",
    "\n",
    "all_df = pd.concat([train_df, test_df])\n",
    "all_df"
   ]
  },
  {
   "cell_type": "markdown",
   "id": "d6e1be93",
   "metadata": {},
   "source": [
    "### Feature Engineering"
   ]
  },
  {
   "cell_type": "code",
   "execution_count": 5,
   "id": "b6fbe335",
   "metadata": {},
   "outputs": [],
   "source": [
    "import xgboost as xgb\n",
    "from sklearn import metrics\n",
    "from sklearn import preprocessing\n",
    "from sklearn.metrics import accuracy_score"
   ]
  },
  {
   "cell_type": "code",
   "execution_count": 6,
   "id": "7af28ac7",
   "metadata": {
    "scrolled": true
   },
   "outputs": [
    {
     "name": "stdout",
     "output_type": "stream",
     "text": [
      "<class 'pandas.core.frame.DataFrame'>\n",
      "Int64Index: 1309 entries, 1 to 1309\n",
      "Data columns (total 10 columns):\n",
      " #   Column    Non-Null Count  Dtype  \n",
      "---  ------    --------------  -----  \n",
      " 0   Pclass    1309 non-null   int64  \n",
      " 1   Name      1309 non-null   object \n",
      " 2   Sex       1309 non-null   object \n",
      " 3   Age       1046 non-null   float64\n",
      " 4   SibSp     1309 non-null   int64  \n",
      " 5   Parch     1309 non-null   int64  \n",
      " 6   Ticket    1309 non-null   object \n",
      " 7   Fare      1308 non-null   float64\n",
      " 8   Cabin     295 non-null    object \n",
      " 9   Embarked  1307 non-null   object \n",
      "dtypes: float64(2), int64(3), object(5)\n",
      "memory usage: 112.5+ KB\n"
     ]
    }
   ],
   "source": [
    "all_df.info()"
   ]
  },
  {
   "cell_type": "code",
   "execution_count": 7,
   "id": "40e76648",
   "metadata": {},
   "outputs": [],
   "source": [
    "# too many missing values\n",
    "all_df.drop(columns='Cabin', inplace=True)"
   ]
  },
  {
   "cell_type": "code",
   "execution_count": 8,
   "id": "7e6462cb",
   "metadata": {},
   "outputs": [
    {
     "name": "stdout",
     "output_type": "stream",
     "text": [
      "mean: 29.881137667304014\n",
      "median: 28.0\n"
     ]
    }
   ],
   "source": [
    "print(\"mean:\", all_df[\"Age\"].mean())\n",
    "print(\"median:\", all_df[\"Age\"].median())\n",
    "all_df[\"Age\"] = all_df[\"Age\"].fillna(all_df[\"Age\"].mean())\n",
    "all_df[\"Fare\"] = all_df[\"Fare\"].fillna(all_df[\"Fare\"].median())"
   ]
  },
  {
   "cell_type": "code",
   "execution_count": 9,
   "id": "a3fd6905",
   "metadata": {},
   "outputs": [
    {
     "data": {
      "text/plain": [
       "Index(['Pclass', 'Name', 'Sex', 'Age', 'SibSp', 'Parch', 'Ticket', 'Fare',\n",
       "       'Embarked'],\n",
       "      dtype='object')"
      ]
     },
     "execution_count": 9,
     "metadata": {},
     "output_type": "execute_result"
    }
   ],
   "source": [
    "all_df.columns"
   ]
  },
  {
   "cell_type": "code",
   "execution_count": 10,
   "id": "66f0b2cc",
   "metadata": {
    "scrolled": true
   },
   "outputs": [],
   "source": [
    "# splitting Name column \n",
    "\n",
    "# all_df[\"Title\"] = (all_df.Name.str.split(pat=',', n=2, expand=True)[1]).str.split(pat='.', n=2, expand=True)[0]\n",
    "# all_df[\"Name\"] = all_df.Name.str.split(pat=',', n=2, expand=True)[0]\n",
    "\n",
    "# all_df"
   ]
  },
  {
   "cell_type": "code",
   "execution_count": 11,
   "id": "6b4022a3",
   "metadata": {
    "scrolled": false
   },
   "outputs": [
    {
     "data": {
      "text/plain": [
       "['Pclass', 'Sex', 'Age', 'SibSp', 'Parch', 'Fare', 'Embarked']"
      ]
     },
     "execution_count": 11,
     "metadata": {},
     "output_type": "execute_result"
    }
   ],
   "source": [
    "# making a feature list\n",
    "features = [\n",
    "    f for f in all_df.columns if f not in ('PassengerId', 'Survived', 'Ticket', 'Name')\n",
    "]\n",
    "\n",
    "features"
   ]
  },
  {
   "cell_type": "code",
   "execution_count": 12,
   "id": "05491098",
   "metadata": {},
   "outputs": [
    {
     "data": {
      "text/html": [
       "<div>\n",
       "<style scoped>\n",
       "    .dataframe tbody tr th:only-of-type {\n",
       "        vertical-align: middle;\n",
       "    }\n",
       "\n",
       "    .dataframe tbody tr th {\n",
       "        vertical-align: top;\n",
       "    }\n",
       "\n",
       "    .dataframe thead th {\n",
       "        text-align: right;\n",
       "    }\n",
       "</style>\n",
       "<table border=\"1\" class=\"dataframe\">\n",
       "  <thead>\n",
       "    <tr style=\"text-align: right;\">\n",
       "      <th></th>\n",
       "      <th>Pclass</th>\n",
       "      <th>Sex</th>\n",
       "      <th>Age</th>\n",
       "      <th>SibSp</th>\n",
       "      <th>Parch</th>\n",
       "      <th>Fare</th>\n",
       "      <th>Embarked</th>\n",
       "    </tr>\n",
       "    <tr>\n",
       "      <th>PassengerId</th>\n",
       "      <th></th>\n",
       "      <th></th>\n",
       "      <th></th>\n",
       "      <th></th>\n",
       "      <th></th>\n",
       "      <th></th>\n",
       "      <th></th>\n",
       "    </tr>\n",
       "  </thead>\n",
       "  <tbody>\n",
       "    <tr>\n",
       "      <th>1</th>\n",
       "      <td>3</td>\n",
       "      <td>male</td>\n",
       "      <td>22.000000</td>\n",
       "      <td>1</td>\n",
       "      <td>0</td>\n",
       "      <td>7.2500</td>\n",
       "      <td>S</td>\n",
       "    </tr>\n",
       "    <tr>\n",
       "      <th>2</th>\n",
       "      <td>1</td>\n",
       "      <td>female</td>\n",
       "      <td>38.000000</td>\n",
       "      <td>1</td>\n",
       "      <td>0</td>\n",
       "      <td>71.2833</td>\n",
       "      <td>C</td>\n",
       "    </tr>\n",
       "    <tr>\n",
       "      <th>3</th>\n",
       "      <td>3</td>\n",
       "      <td>female</td>\n",
       "      <td>26.000000</td>\n",
       "      <td>0</td>\n",
       "      <td>0</td>\n",
       "      <td>7.9250</td>\n",
       "      <td>S</td>\n",
       "    </tr>\n",
       "    <tr>\n",
       "      <th>4</th>\n",
       "      <td>1</td>\n",
       "      <td>female</td>\n",
       "      <td>35.000000</td>\n",
       "      <td>1</td>\n",
       "      <td>0</td>\n",
       "      <td>53.1000</td>\n",
       "      <td>S</td>\n",
       "    </tr>\n",
       "    <tr>\n",
       "      <th>5</th>\n",
       "      <td>3</td>\n",
       "      <td>male</td>\n",
       "      <td>35.000000</td>\n",
       "      <td>0</td>\n",
       "      <td>0</td>\n",
       "      <td>8.0500</td>\n",
       "      <td>S</td>\n",
       "    </tr>\n",
       "    <tr>\n",
       "      <th>...</th>\n",
       "      <td>...</td>\n",
       "      <td>...</td>\n",
       "      <td>...</td>\n",
       "      <td>...</td>\n",
       "      <td>...</td>\n",
       "      <td>...</td>\n",
       "      <td>...</td>\n",
       "    </tr>\n",
       "    <tr>\n",
       "      <th>1305</th>\n",
       "      <td>3</td>\n",
       "      <td>male</td>\n",
       "      <td>29.881138</td>\n",
       "      <td>0</td>\n",
       "      <td>0</td>\n",
       "      <td>8.0500</td>\n",
       "      <td>S</td>\n",
       "    </tr>\n",
       "    <tr>\n",
       "      <th>1306</th>\n",
       "      <td>1</td>\n",
       "      <td>female</td>\n",
       "      <td>39.000000</td>\n",
       "      <td>0</td>\n",
       "      <td>0</td>\n",
       "      <td>108.9000</td>\n",
       "      <td>C</td>\n",
       "    </tr>\n",
       "    <tr>\n",
       "      <th>1307</th>\n",
       "      <td>3</td>\n",
       "      <td>male</td>\n",
       "      <td>38.500000</td>\n",
       "      <td>0</td>\n",
       "      <td>0</td>\n",
       "      <td>7.2500</td>\n",
       "      <td>S</td>\n",
       "    </tr>\n",
       "    <tr>\n",
       "      <th>1308</th>\n",
       "      <td>3</td>\n",
       "      <td>male</td>\n",
       "      <td>29.881138</td>\n",
       "      <td>0</td>\n",
       "      <td>0</td>\n",
       "      <td>8.0500</td>\n",
       "      <td>S</td>\n",
       "    </tr>\n",
       "    <tr>\n",
       "      <th>1309</th>\n",
       "      <td>3</td>\n",
       "      <td>male</td>\n",
       "      <td>29.881138</td>\n",
       "      <td>1</td>\n",
       "      <td>1</td>\n",
       "      <td>22.3583</td>\n",
       "      <td>C</td>\n",
       "    </tr>\n",
       "  </tbody>\n",
       "</table>\n",
       "<p>1309 rows × 7 columns</p>\n",
       "</div>"
      ],
      "text/plain": [
       "             Pclass     Sex        Age  SibSp  Parch      Fare Embarked\n",
       "PassengerId                                                            \n",
       "1                 3    male  22.000000      1      0    7.2500        S\n",
       "2                 1  female  38.000000      1      0   71.2833        C\n",
       "3                 3  female  26.000000      0      0    7.9250        S\n",
       "4                 1  female  35.000000      1      0   53.1000        S\n",
       "5                 3    male  35.000000      0      0    8.0500        S\n",
       "...             ...     ...        ...    ...    ...       ...      ...\n",
       "1305              3    male  29.881138      0      0    8.0500        S\n",
       "1306              1  female  39.000000      0      0  108.9000        C\n",
       "1307              3    male  38.500000      0      0    7.2500        S\n",
       "1308              3    male  29.881138      0      0    8.0500        S\n",
       "1309              3    male  29.881138      1      1   22.3583        C\n",
       "\n",
       "[1309 rows x 7 columns]"
      ]
     },
     "execution_count": 12,
     "metadata": {},
     "output_type": "execute_result"
    }
   ],
   "source": [
    "all_df[features]"
   ]
  },
  {
   "cell_type": "markdown",
   "id": "3ad5122d",
   "metadata": {},
   "source": [
    "### One-hot Encoding"
   ]
  },
  {
   "cell_type": "code",
   "execution_count": 13,
   "id": "c3a2a0b3",
   "metadata": {
    "scrolled": false
   },
   "outputs": [
    {
     "data": {
      "text/html": [
       "<div>\n",
       "<style scoped>\n",
       "    .dataframe tbody tr th:only-of-type {\n",
       "        vertical-align: middle;\n",
       "    }\n",
       "\n",
       "    .dataframe tbody tr th {\n",
       "        vertical-align: top;\n",
       "    }\n",
       "\n",
       "    .dataframe thead th {\n",
       "        text-align: right;\n",
       "    }\n",
       "</style>\n",
       "<table border=\"1\" class=\"dataframe\">\n",
       "  <thead>\n",
       "    <tr style=\"text-align: right;\">\n",
       "      <th></th>\n",
       "      <th>Pclass</th>\n",
       "      <th>Age</th>\n",
       "      <th>SibSp</th>\n",
       "      <th>Parch</th>\n",
       "      <th>Fare</th>\n",
       "      <th>Sex_female</th>\n",
       "      <th>Sex_male</th>\n",
       "      <th>Embarked_C</th>\n",
       "      <th>Embarked_Q</th>\n",
       "      <th>Embarked_S</th>\n",
       "    </tr>\n",
       "    <tr>\n",
       "      <th>PassengerId</th>\n",
       "      <th></th>\n",
       "      <th></th>\n",
       "      <th></th>\n",
       "      <th></th>\n",
       "      <th></th>\n",
       "      <th></th>\n",
       "      <th></th>\n",
       "      <th></th>\n",
       "      <th></th>\n",
       "      <th></th>\n",
       "    </tr>\n",
       "  </thead>\n",
       "  <tbody>\n",
       "    <tr>\n",
       "      <th>1</th>\n",
       "      <td>3</td>\n",
       "      <td>22.000000</td>\n",
       "      <td>1</td>\n",
       "      <td>0</td>\n",
       "      <td>7.2500</td>\n",
       "      <td>0</td>\n",
       "      <td>1</td>\n",
       "      <td>0</td>\n",
       "      <td>0</td>\n",
       "      <td>1</td>\n",
       "    </tr>\n",
       "    <tr>\n",
       "      <th>2</th>\n",
       "      <td>1</td>\n",
       "      <td>38.000000</td>\n",
       "      <td>1</td>\n",
       "      <td>0</td>\n",
       "      <td>71.2833</td>\n",
       "      <td>1</td>\n",
       "      <td>0</td>\n",
       "      <td>1</td>\n",
       "      <td>0</td>\n",
       "      <td>0</td>\n",
       "    </tr>\n",
       "    <tr>\n",
       "      <th>3</th>\n",
       "      <td>3</td>\n",
       "      <td>26.000000</td>\n",
       "      <td>0</td>\n",
       "      <td>0</td>\n",
       "      <td>7.9250</td>\n",
       "      <td>1</td>\n",
       "      <td>0</td>\n",
       "      <td>0</td>\n",
       "      <td>0</td>\n",
       "      <td>1</td>\n",
       "    </tr>\n",
       "    <tr>\n",
       "      <th>4</th>\n",
       "      <td>1</td>\n",
       "      <td>35.000000</td>\n",
       "      <td>1</td>\n",
       "      <td>0</td>\n",
       "      <td>53.1000</td>\n",
       "      <td>1</td>\n",
       "      <td>0</td>\n",
       "      <td>0</td>\n",
       "      <td>0</td>\n",
       "      <td>1</td>\n",
       "    </tr>\n",
       "    <tr>\n",
       "      <th>5</th>\n",
       "      <td>3</td>\n",
       "      <td>35.000000</td>\n",
       "      <td>0</td>\n",
       "      <td>0</td>\n",
       "      <td>8.0500</td>\n",
       "      <td>0</td>\n",
       "      <td>1</td>\n",
       "      <td>0</td>\n",
       "      <td>0</td>\n",
       "      <td>1</td>\n",
       "    </tr>\n",
       "    <tr>\n",
       "      <th>...</th>\n",
       "      <td>...</td>\n",
       "      <td>...</td>\n",
       "      <td>...</td>\n",
       "      <td>...</td>\n",
       "      <td>...</td>\n",
       "      <td>...</td>\n",
       "      <td>...</td>\n",
       "      <td>...</td>\n",
       "      <td>...</td>\n",
       "      <td>...</td>\n",
       "    </tr>\n",
       "    <tr>\n",
       "      <th>1305</th>\n",
       "      <td>3</td>\n",
       "      <td>29.881138</td>\n",
       "      <td>0</td>\n",
       "      <td>0</td>\n",
       "      <td>8.0500</td>\n",
       "      <td>0</td>\n",
       "      <td>1</td>\n",
       "      <td>0</td>\n",
       "      <td>0</td>\n",
       "      <td>1</td>\n",
       "    </tr>\n",
       "    <tr>\n",
       "      <th>1306</th>\n",
       "      <td>1</td>\n",
       "      <td>39.000000</td>\n",
       "      <td>0</td>\n",
       "      <td>0</td>\n",
       "      <td>108.9000</td>\n",
       "      <td>1</td>\n",
       "      <td>0</td>\n",
       "      <td>1</td>\n",
       "      <td>0</td>\n",
       "      <td>0</td>\n",
       "    </tr>\n",
       "    <tr>\n",
       "      <th>1307</th>\n",
       "      <td>3</td>\n",
       "      <td>38.500000</td>\n",
       "      <td>0</td>\n",
       "      <td>0</td>\n",
       "      <td>7.2500</td>\n",
       "      <td>0</td>\n",
       "      <td>1</td>\n",
       "      <td>0</td>\n",
       "      <td>0</td>\n",
       "      <td>1</td>\n",
       "    </tr>\n",
       "    <tr>\n",
       "      <th>1308</th>\n",
       "      <td>3</td>\n",
       "      <td>29.881138</td>\n",
       "      <td>0</td>\n",
       "      <td>0</td>\n",
       "      <td>8.0500</td>\n",
       "      <td>0</td>\n",
       "      <td>1</td>\n",
       "      <td>0</td>\n",
       "      <td>0</td>\n",
       "      <td>1</td>\n",
       "    </tr>\n",
       "    <tr>\n",
       "      <th>1309</th>\n",
       "      <td>3</td>\n",
       "      <td>29.881138</td>\n",
       "      <td>1</td>\n",
       "      <td>1</td>\n",
       "      <td>22.3583</td>\n",
       "      <td>0</td>\n",
       "      <td>1</td>\n",
       "      <td>1</td>\n",
       "      <td>0</td>\n",
       "      <td>0</td>\n",
       "    </tr>\n",
       "  </tbody>\n",
       "</table>\n",
       "<p>1309 rows × 10 columns</p>\n",
       "</div>"
      ],
      "text/plain": [
       "             Pclass        Age  SibSp  Parch      Fare  Sex_female  Sex_male  \\\n",
       "PassengerId                                                                    \n",
       "1                 3  22.000000      1      0    7.2500           0         1   \n",
       "2                 1  38.000000      1      0   71.2833           1         0   \n",
       "3                 3  26.000000      0      0    7.9250           1         0   \n",
       "4                 1  35.000000      1      0   53.1000           1         0   \n",
       "5                 3  35.000000      0      0    8.0500           0         1   \n",
       "...             ...        ...    ...    ...       ...         ...       ...   \n",
       "1305              3  29.881138      0      0    8.0500           0         1   \n",
       "1306              1  39.000000      0      0  108.9000           1         0   \n",
       "1307              3  38.500000      0      0    7.2500           0         1   \n",
       "1308              3  29.881138      0      0    8.0500           0         1   \n",
       "1309              3  29.881138      1      1   22.3583           0         1   \n",
       "\n",
       "             Embarked_C  Embarked_Q  Embarked_S  \n",
       "PassengerId                                      \n",
       "1                     0           0           1  \n",
       "2                     1           0           0  \n",
       "3                     0           0           1  \n",
       "4                     0           0           1  \n",
       "5                     0           0           1  \n",
       "...                 ...         ...         ...  \n",
       "1305                  0           0           1  \n",
       "1306                  1           0           0  \n",
       "1307                  0           0           1  \n",
       "1308                  0           0           1  \n",
       "1309                  1           0           0  \n",
       "\n",
       "[1309 rows x 10 columns]"
      ]
     },
     "execution_count": 13,
     "metadata": {},
     "output_type": "execute_result"
    }
   ],
   "source": [
    "all_df = pd.get_dummies(all_df[features])\n",
    "all_df"
   ]
  },
  {
   "cell_type": "code",
   "execution_count": 14,
   "id": "cb1c58c2",
   "metadata": {},
   "outputs": [
    {
     "data": {
      "text/plain": [
       "['Pclass',\n",
       " 'Age',\n",
       " 'SibSp',\n",
       " 'Parch',\n",
       " 'Fare',\n",
       " 'Sex_female',\n",
       " 'Sex_male',\n",
       " 'Embarked_C',\n",
       " 'Embarked_Q',\n",
       " 'Embarked_S']"
      ]
     },
     "execution_count": 14,
     "metadata": {},
     "output_type": "execute_result"
    }
   ],
   "source": [
    "features = all_df.columns.to_list()\n",
    "features"
   ]
  },
  {
   "cell_type": "code",
   "execution_count": 15,
   "id": "0d17878a",
   "metadata": {},
   "outputs": [],
   "source": [
    "train_df = all_df[0:891]\n",
    "\n",
    "x_test = all_df[891:1309]"
   ]
  },
  {
   "cell_type": "markdown",
   "id": "3a1b2cdb",
   "metadata": {},
   "source": [
    "### Creating train and validation data"
   ]
  },
  {
   "cell_type": "code",
   "execution_count": 16,
   "id": "36b3239e",
   "metadata": {},
   "outputs": [],
   "source": [
    "X_train, X_valid, y_train, y_valid = train_test_split(train_df, y, test_size=0.25, random_state=42)"
   ]
  },
  {
   "cell_type": "markdown",
   "id": "97347bd6",
   "metadata": {},
   "source": [
    "### Hyper-parameter Optimization"
   ]
  },
  {
   "cell_type": "code",
   "execution_count": 17,
   "id": "f68f6ab2",
   "metadata": {
    "scrolled": false
   },
   "outputs": [
    {
     "name": "stderr",
     "output_type": "stream",
     "text": [
      "\u001b[32m[I 2022-12-25 15:08:19,526]\u001b[0m A new study created in memory with name: no-name-316eebbc-762a-454a-ad71-7f07ad8d9507\u001b[0m\n"
     ]
    },
    {
     "name": "stdout",
     "output_type": "stream",
     "text": [
      "[15:08:19] WARNING: C:/Users/Administrator/workspace/xgboost-win64_release_1.5.1/src/learner.cc:1115: Starting in XGBoost 1.3.0, the default evaluation metric used with the objective 'binary:logistic' was changed from 'error' to 'logloss'. Explicitly set eval_metric if you'd like to restore the old behavior.\n"
     ]
    },
    {
     "name": "stderr",
     "output_type": "stream",
     "text": [
      "\u001b[32m[I 2022-12-25 15:08:22,678]\u001b[0m Trial 0 finished with value: 0.8026905829596412 and parameters: {'max_depth': 3, 'learning_rate': 0.0002131606983440818, 'n_estimators': 2907, 'min_child_weight': 5, 'colsample_bytree': 0.6174658728714801, 'subsample': 0.4419703533406345, 'reg_alpha': 0.19060122621687506, 'reg_lambda': 0.0006980132148277114}. Best is trial 0 with value: 0.8026905829596412.\u001b[0m\n"
     ]
    },
    {
     "name": "stdout",
     "output_type": "stream",
     "text": [
      "0.8026905829596412\n",
      "[15:08:22] WARNING: C:/Users/Administrator/workspace/xgboost-win64_release_1.5.1/src/learner.cc:1115: Starting in XGBoost 1.3.0, the default evaluation metric used with the objective 'binary:logistic' was changed from 'error' to 'logloss'. Explicitly set eval_metric if you'd like to restore the old behavior.\n"
     ]
    },
    {
     "name": "stderr",
     "output_type": "stream",
     "text": [
      "\u001b[32m[I 2022-12-25 15:08:27,382]\u001b[0m Trial 1 finished with value: 0.7892376681614349 and parameters: {'max_depth': 6, 'learning_rate': 0.06412470446453644, 'n_estimators': 3745, 'min_child_weight': 1, 'colsample_bytree': 0.7464932629939087, 'subsample': 0.6260324187039041, 'reg_alpha': 0.016875775049959327, 'reg_lambda': 0.00040463733407012124}. Best is trial 0 with value: 0.8026905829596412.\u001b[0m\n"
     ]
    },
    {
     "name": "stdout",
     "output_type": "stream",
     "text": [
      "0.7892376681614349\n",
      "[15:08:27] WARNING: C:/Users/Administrator/workspace/xgboost-win64_release_1.5.1/src/learner.cc:1115: Starting in XGBoost 1.3.0, the default evaluation metric used with the objective 'binary:logistic' was changed from 'error' to 'logloss'. Explicitly set eval_metric if you'd like to restore the old behavior.\n"
     ]
    },
    {
     "name": "stderr",
     "output_type": "stream",
     "text": [
      "\u001b[32m[I 2022-12-25 15:08:29,298]\u001b[0m Trial 2 finished with value: 0.8071748878923767 and parameters: {'max_depth': 6, 'learning_rate': 0.00013768524996804295, 'n_estimators': 1483, 'min_child_weight': 3, 'colsample_bytree': 0.8971003211780675, 'subsample': 0.9959435663495333, 'reg_alpha': 2.851369620824857, 'reg_lambda': 2.9298509278870117}. Best is trial 2 with value: 0.8071748878923767.\u001b[0m\n"
     ]
    },
    {
     "name": "stdout",
     "output_type": "stream",
     "text": [
      "0.8071748878923767\n",
      "[15:08:29] WARNING: C:/Users/Administrator/workspace/xgboost-win64_release_1.5.1/src/learner.cc:1115: Starting in XGBoost 1.3.0, the default evaluation metric used with the objective 'binary:logistic' was changed from 'error' to 'logloss'. Explicitly set eval_metric if you'd like to restore the old behavior.\n"
     ]
    },
    {
     "name": "stderr",
     "output_type": "stream",
     "text": [
      "\u001b[32m[I 2022-12-25 15:08:37,983]\u001b[0m Trial 3 finished with value: 0.820627802690583 and parameters: {'max_depth': 9, 'learning_rate': 0.04055221920978258, 'n_estimators': 7784, 'min_child_weight': 2, 'colsample_bytree': 0.6945943914895759, 'subsample': 0.5048660572605113, 'reg_alpha': 0.0006256946236235881, 'reg_lambda': 60.69857050381173}. Best is trial 3 with value: 0.820627802690583.\u001b[0m\n"
     ]
    },
    {
     "name": "stdout",
     "output_type": "stream",
     "text": [
      "0.820627802690583\n",
      "[15:08:38] WARNING: C:/Users/Administrator/workspace/xgboost-win64_release_1.5.1/src/learner.cc:1115: Starting in XGBoost 1.3.0, the default evaluation metric used with the objective 'binary:logistic' was changed from 'error' to 'logloss'. Explicitly set eval_metric if you'd like to restore the old behavior.\n"
     ]
    },
    {
     "name": "stderr",
     "output_type": "stream",
     "text": [
      "\u001b[32m[I 2022-12-25 15:08:42,522]\u001b[0m Trial 4 finished with value: 0.600896860986547 and parameters: {'max_depth': 9, 'learning_rate': 0.0014557009430882818, 'n_estimators': 4837, 'min_child_weight': 8, 'colsample_bytree': 0.9015878184034116, 'subsample': 0.7645009788295354, 'reg_alpha': 84.63262768077603, 'reg_lambda': 0.036350337985815134}. Best is trial 3 with value: 0.820627802690583.\u001b[0m\n"
     ]
    },
    {
     "name": "stdout",
     "output_type": "stream",
     "text": [
      "0.600896860986547\n",
      "[15:08:42] WARNING: C:/Users/Administrator/workspace/xgboost-win64_release_1.5.1/src/learner.cc:1115: Starting in XGBoost 1.3.0, the default evaluation metric used with the objective 'binary:logistic' was changed from 'error' to 'logloss'. Explicitly set eval_metric if you'd like to restore the old behavior.\n"
     ]
    },
    {
     "name": "stderr",
     "output_type": "stream",
     "text": [
      "\u001b[32m[I 2022-12-25 15:08:47,262]\u001b[0m Trial 5 finished with value: 0.8071748878923767 and parameters: {'max_depth': 3, 'learning_rate': 0.004415931984893069, 'n_estimators': 4849, 'min_child_weight': 4, 'colsample_bytree': 0.8033861700936937, 'subsample': 0.4323832543458309, 'reg_alpha': 8.082293730471811, 'reg_lambda': 1.4080386960934441}. Best is trial 3 with value: 0.820627802690583.\u001b[0m\n"
     ]
    },
    {
     "name": "stdout",
     "output_type": "stream",
     "text": [
      "0.8071748878923767\n",
      "[15:08:47] WARNING: C:/Users/Administrator/workspace/xgboost-win64_release_1.5.1/src/learner.cc:1115: Starting in XGBoost 1.3.0, the default evaluation metric used with the objective 'binary:logistic' was changed from 'error' to 'logloss'. Explicitly set eval_metric if you'd like to restore the old behavior.\n"
     ]
    },
    {
     "name": "stderr",
     "output_type": "stream",
     "text": [
      "\u001b[32m[I 2022-12-25 15:08:53,098]\u001b[0m Trial 6 finished with value: 0.8026905829596412 and parameters: {'max_depth': 6, 'learning_rate': 0.08852243492972715, 'n_estimators': 6842, 'min_child_weight': 7, 'colsample_bytree': 0.6843550508898948, 'subsample': 0.8527584062104612, 'reg_alpha': 20.637020530887725, 'reg_lambda': 0.006639045398485626}. Best is trial 3 with value: 0.820627802690583.\u001b[0m\n"
     ]
    },
    {
     "name": "stdout",
     "output_type": "stream",
     "text": [
      "0.8026905829596412\n",
      "[15:08:53] WARNING: C:/Users/Administrator/workspace/xgboost-win64_release_1.5.1/src/learner.cc:1115: Starting in XGBoost 1.3.0, the default evaluation metric used with the objective 'binary:logistic' was changed from 'error' to 'logloss'. Explicitly set eval_metric if you'd like to restore the old behavior.\n"
     ]
    },
    {
     "name": "stderr",
     "output_type": "stream",
     "text": [
      "\u001b[32m[I 2022-12-25 15:08:57,072]\u001b[0m Trial 7 finished with value: 0.7847533632286996 and parameters: {'max_depth': 9, 'learning_rate': 0.0004727789045708788, 'n_estimators': 4027, 'min_child_weight': 10, 'colsample_bytree': 0.7804245605730162, 'subsample': 0.6541373836717016, 'reg_alpha': 1.788663596475821, 'reg_lambda': 91.57449748187368}. Best is trial 3 with value: 0.820627802690583.\u001b[0m\n"
     ]
    },
    {
     "name": "stdout",
     "output_type": "stream",
     "text": [
      "0.7847533632286996\n",
      "[15:08:57] WARNING: C:/Users/Administrator/workspace/xgboost-win64_release_1.5.1/src/learner.cc:1115: Starting in XGBoost 1.3.0, the default evaluation metric used with the objective 'binary:logistic' was changed from 'error' to 'logloss'. Explicitly set eval_metric if you'd like to restore the old behavior.\n"
     ]
    },
    {
     "name": "stderr",
     "output_type": "stream",
     "text": [
      "\u001b[32m[I 2022-12-25 15:08:58,658]\u001b[0m Trial 8 finished with value: 0.7847533632286996 and parameters: {'max_depth': 2, 'learning_rate': 0.0007038501676466787, 'n_estimators': 1528, 'min_child_weight': 10, 'colsample_bytree': 0.6585383053309934, 'subsample': 0.6997255086722963, 'reg_alpha': 0.0022743525138512804, 'reg_lambda': 0.0298834813092928}. Best is trial 3 with value: 0.820627802690583.\u001b[0m\n"
     ]
    },
    {
     "name": "stdout",
     "output_type": "stream",
     "text": [
      "0.7847533632286996\n",
      "[15:08:58] WARNING: C:/Users/Administrator/workspace/xgboost-win64_release_1.5.1/src/learner.cc:1115: Starting in XGBoost 1.3.0, the default evaluation metric used with the objective 'binary:logistic' was changed from 'error' to 'logloss'. Explicitly set eval_metric if you'd like to restore the old behavior.\n"
     ]
    },
    {
     "name": "stderr",
     "output_type": "stream",
     "text": [
      "\u001b[32m[I 2022-12-25 15:09:01,098]\u001b[0m Trial 9 finished with value: 0.8340807174887892 and parameters: {'max_depth': 8, 'learning_rate': 0.034222282535874206, 'n_estimators': 2248, 'min_child_weight': 7, 'colsample_bytree': 0.8333823717424944, 'subsample': 0.9598363126679592, 'reg_alpha': 3.2824085534898444, 'reg_lambda': 0.0061166318065493264}. Best is trial 9 with value: 0.8340807174887892.\u001b[0m\n"
     ]
    },
    {
     "name": "stdout",
     "output_type": "stream",
     "text": [
      "0.8340807174887892\n",
      "[15:09:01] WARNING: C:/Users/Administrator/workspace/xgboost-win64_release_1.5.1/src/learner.cc:1115: Starting in XGBoost 1.3.0, the default evaluation metric used with the objective 'binary:logistic' was changed from 'error' to 'logloss'. Explicitly set eval_metric if you'd like to restore the old behavior.\n"
     ]
    },
    {
     "name": "stderr",
     "output_type": "stream",
     "text": [
      "\u001b[32m[I 2022-12-25 15:09:04,037]\u001b[0m Trial 10 finished with value: 0.7937219730941704 and parameters: {'max_depth': 10, 'learning_rate': 0.011131071292521322, 'n_estimators': 2631, 'min_child_weight': 7, 'colsample_bytree': 0.4301841967233117, 'subsample': 0.24316321947623232, 'reg_alpha': 0.16214792340671785, 'reg_lambda': 0.7255277218926954}. Best is trial 9 with value: 0.8340807174887892.\u001b[0m\n"
     ]
    },
    {
     "name": "stdout",
     "output_type": "stream",
     "text": [
      "0.7937219730941704\n",
      "[15:09:04] WARNING: C:/Users/Administrator/workspace/xgboost-win64_release_1.5.1/src/learner.cc:1115: Starting in XGBoost 1.3.0, the default evaluation metric used with the objective 'binary:logistic' was changed from 'error' to 'logloss'. Explicitly set eval_metric if you'd like to restore the old behavior.\n"
     ]
    },
    {
     "name": "stderr",
     "output_type": "stream",
     "text": [
      "\u001b[32m[I 2022-12-25 15:09:13,957]\u001b[0m Trial 11 finished with value: 0.820627802690583 and parameters: {'max_depth': 8, 'learning_rate': 0.022056731581661455, 'n_estimators': 7930, 'min_child_weight': 2, 'colsample_bytree': 0.4695191856167744, 'subsample': 0.4769245483213586, 'reg_alpha': 0.0001659599621399118, 'reg_lambda': 50.83107611377036}. Best is trial 9 with value: 0.8340807174887892.\u001b[0m\n"
     ]
    },
    {
     "name": "stdout",
     "output_type": "stream",
     "text": [
      "0.820627802690583\n",
      "[15:09:14] WARNING: C:/Users/Administrator/workspace/xgboost-win64_release_1.5.1/src/learner.cc:1115: Starting in XGBoost 1.3.0, the default evaluation metric used with the objective 'binary:logistic' was changed from 'error' to 'logloss'. Explicitly set eval_metric if you'd like to restore the old behavior.\n"
     ]
    },
    {
     "name": "stderr",
     "output_type": "stream",
     "text": [
      "\u001b[32m[I 2022-12-25 15:09:21,773]\u001b[0m Trial 12 finished with value: 0.820627802690583 and parameters: {'max_depth': 8, 'learning_rate': 0.02179072883939284, 'n_estimators': 6624, 'min_child_weight': 6, 'colsample_bytree': 0.26633189971233023, 'subsample': 0.90783458597872, 'reg_alpha': 0.00011863608118362534, 'reg_lambda': 0.0029543976305931884}. Best is trial 9 with value: 0.8340807174887892.\u001b[0m\n"
     ]
    },
    {
     "name": "stdout",
     "output_type": "stream",
     "text": [
      "0.820627802690583\n",
      "[15:09:21] WARNING: C:/Users/Administrator/workspace/xgboost-win64_release_1.5.1/src/learner.cc:1115: Starting in XGBoost 1.3.0, the default evaluation metric used with the objective 'binary:logistic' was changed from 'error' to 'logloss'. Explicitly set eval_metric if you'd like to restore the old behavior.\n"
     ]
    },
    {
     "name": "stderr",
     "output_type": "stream",
     "text": [
      "\u001b[32m[I 2022-12-25 15:09:30,356]\u001b[0m Trial 13 finished with value: 0.8161434977578476 and parameters: {'max_depth': 8, 'learning_rate': 0.004735798734053586, 'n_estimators': 6027, 'min_child_weight': 4, 'colsample_bytree': 0.9993416359103235, 'subsample': 0.5307433343055554, 'reg_alpha': 0.004765236299488483, 'reg_lambda': 0.203855458605523}. Best is trial 9 with value: 0.8340807174887892.\u001b[0m\n"
     ]
    },
    {
     "name": "stdout",
     "output_type": "stream",
     "text": [
      "0.8161434977578476\n",
      "[15:09:30] WARNING: C:/Users/Administrator/workspace/xgboost-win64_release_1.5.1/src/learner.cc:1115: Starting in XGBoost 1.3.0, the default evaluation metric used with the objective 'binary:logistic' was changed from 'error' to 'logloss'. Explicitly set eval_metric if you'd like to restore the old behavior.\n"
     ]
    },
    {
     "name": "stderr",
     "output_type": "stream",
     "text": [
      "\u001b[32m[I 2022-12-25 15:09:40,561]\u001b[0m Trial 14 finished with value: 0.7847533632286996 and parameters: {'max_depth': 10, 'learning_rate': 0.034586485310271246, 'n_estimators': 7874, 'min_child_weight': 1, 'colsample_bytree': 0.5228331981537627, 'subsample': 0.31796951686580643, 'reg_alpha': 0.5516043301657978, 'reg_lambda': 0.00012309145231832275}. Best is trial 9 with value: 0.8340807174887892.\u001b[0m\n"
     ]
    },
    {
     "name": "stdout",
     "output_type": "stream",
     "text": [
      "0.7847533632286996\n",
      "[15:09:40] WARNING: C:/Users/Administrator/workspace/xgboost-win64_release_1.5.1/src/learner.cc:1115: Starting in XGBoost 1.3.0, the default evaluation metric used with the objective 'binary:logistic' was changed from 'error' to 'logloss'. Explicitly set eval_metric if you'd like to restore the old behavior.\n"
     ]
    },
    {
     "name": "stderr",
     "output_type": "stream",
     "text": [
      "\u001b[32m[I 2022-12-25 15:09:43,888]\u001b[0m Trial 15 finished with value: 0.8340807174887892 and parameters: {'max_depth': 7, 'learning_rate': 0.009571289530880104, 'n_estimators': 2427, 'min_child_weight': 8, 'colsample_bytree': 0.8496568254670985, 'subsample': 0.7725761560397033, 'reg_alpha': 0.0009424209965890297, 'reg_lambda': 7.439312502294768}. Best is trial 9 with value: 0.8340807174887892.\u001b[0m\n"
     ]
    },
    {
     "name": "stdout",
     "output_type": "stream",
     "text": [
      "0.8340807174887892\n",
      "[15:09:43] WARNING: C:/Users/Administrator/workspace/xgboost-win64_release_1.5.1/src/learner.cc:1115: Starting in XGBoost 1.3.0, the default evaluation metric used with the objective 'binary:logistic' was changed from 'error' to 'logloss'. Explicitly set eval_metric if you'd like to restore the old behavior.\n"
     ]
    },
    {
     "name": "stderr",
     "output_type": "stream",
     "text": [
      "\u001b[32m[I 2022-12-25 15:09:47,010]\u001b[0m Trial 16 finished with value: 0.8340807174887892 and parameters: {'max_depth': 5, 'learning_rate': 0.009934845494427809, 'n_estimators': 2363, 'min_child_weight': 8, 'colsample_bytree': 0.875463094603872, 'subsample': 0.8104277608647859, 'reg_alpha': 0.026613194464580176, 'reg_lambda': 3.928441393268503}. Best is trial 9 with value: 0.8340807174887892.\u001b[0m\n"
     ]
    },
    {
     "name": "stdout",
     "output_type": "stream",
     "text": [
      "0.8340807174887892\n",
      "[15:09:47] WARNING: C:/Users/Administrator/workspace/xgboost-win64_release_1.5.1/src/learner.cc:1115: Starting in XGBoost 1.3.0, the default evaluation metric used with the objective 'binary:logistic' was changed from 'error' to 'logloss'. Explicitly set eval_metric if you'd like to restore the old behavior.\n"
     ]
    },
    {
     "name": "stderr",
     "output_type": "stream",
     "text": [
      "\u001b[32m[I 2022-12-25 15:09:48,530]\u001b[0m Trial 17 finished with value: 0.820627802690583 and parameters: {'max_depth': 5, 'learning_rate': 0.010044394152400446, 'n_estimators': 1088, 'min_child_weight': 9, 'colsample_bytree': 0.9956102686138697, 'subsample': 0.9810356167464421, 'reg_alpha': 0.021134805485796895, 'reg_lambda': 0.14366775512662028}. Best is trial 9 with value: 0.8340807174887892.\u001b[0m\n"
     ]
    },
    {
     "name": "stdout",
     "output_type": "stream",
     "text": [
      "0.820627802690583\n",
      "[15:09:48] WARNING: C:/Users/Administrator/workspace/xgboost-win64_release_1.5.1/src/learner.cc:1115: Starting in XGBoost 1.3.0, the default evaluation metric used with the objective 'binary:logistic' was changed from 'error' to 'logloss'. Explicitly set eval_metric if you'd like to restore the old behavior.\n"
     ]
    },
    {
     "name": "stderr",
     "output_type": "stream",
     "text": [
      "\u001b[32m[I 2022-12-25 15:09:52,391]\u001b[0m Trial 18 finished with value: 0.8026905829596412 and parameters: {'max_depth': 4, 'learning_rate': 0.00238566246640944, 'n_estimators': 3325, 'min_child_weight': 9, 'colsample_bytree': 0.8920303674559452, 'subsample': 0.7955395077268274, 'reg_alpha': 0.02953043403075206, 'reg_lambda': 9.34059103823731}. Best is trial 9 with value: 0.8340807174887892.\u001b[0m\n"
     ]
    },
    {
     "name": "stdout",
     "output_type": "stream",
     "text": [
      "0.8026905829596412\n",
      "[15:09:52] WARNING: C:/Users/Administrator/workspace/xgboost-win64_release_1.5.1/src/learner.cc:1115: Starting in XGBoost 1.3.0, the default evaluation metric used with the objective 'binary:logistic' was changed from 'error' to 'logloss'. Explicitly set eval_metric if you'd like to restore the old behavior.\n"
     ]
    },
    {
     "name": "stderr",
     "output_type": "stream",
     "text": [
      "\u001b[32m[I 2022-12-25 15:09:55,047]\u001b[0m Trial 19 finished with value: 0.8295964125560538 and parameters: {'max_depth': 5, 'learning_rate': 0.018141626594381947, 'n_estimators': 2211, 'min_child_weight': 6, 'colsample_bytree': 0.31393296670674764, 'subsample': 0.9117683567858362, 'reg_alpha': 0.7202146476437279, 'reg_lambda': 0.00813447913185434}. Best is trial 9 with value: 0.8340807174887892.\u001b[0m\n"
     ]
    },
    {
     "name": "stdout",
     "output_type": "stream",
     "text": [
      "0.8295964125560538\n"
     ]
    }
   ],
   "source": [
    "import optuna\n",
    "from tqdm.auto import tqdm\n",
    "\n",
    "def objective(trial):\n",
    "    xgb_params = dict(\n",
    "        max_depth=trial.suggest_int(\"max_depth\", 2, 10),\n",
    "        learning_rate=trial.suggest_float(\"learning_rate\", 1e-4, 1e-1, log=True),\n",
    "        n_estimators=trial.suggest_int(\"n_estimators\", 1000, 8000),\n",
    "        min_child_weight=trial.suggest_int(\"min_child_weight\", 1, 10),\n",
    "        colsample_bytree=trial.suggest_float(\"colsample_bytree\", 0.2, 1.0),\n",
    "        subsample=trial.suggest_float(\"subsample\", 0.2, 1.0),\n",
    "        reg_alpha=trial.suggest_float(\"reg_alpha\", 1e-4, 1e2, log=True),\n",
    "        reg_lambda=trial.suggest_float(\"reg_lambda\", 1e-4, 1e2, log=True),\n",
    "    )\n",
    "    xgbc = xgb.XGBClassifier(**xgb_params)\n",
    "    \n",
    "    #Train the model using the training sets\n",
    "    xgbc.fit(X_train, y_train)\n",
    "    # print(model.feature_importances_)\n",
    "\n",
    "    #Predict the response for test dataset\n",
    "    y_pred = xgbc.predict(X_valid)\n",
    "    print(metrics.accuracy_score(y_valid, y_pred))\n",
    "    \n",
    "    return metrics.accuracy_score(y_valid, y_pred)\n",
    "\n",
    "\n",
    "study = optuna.create_study(direction=\"maximize\")\n",
    "study.optimize(objective, n_trials=20)\n",
    "xgb_best_params = study.best_params"
   ]
  },
  {
   "cell_type": "markdown",
   "id": "b4f2c961",
   "metadata": {},
   "source": [
    "### Test data prediction"
   ]
  },
  {
   "cell_type": "code",
   "execution_count": 19,
   "id": "cfb3c6ef",
   "metadata": {
    "scrolled": true
   },
   "outputs": [
    {
     "name": "stdout",
     "output_type": "stream",
     "text": [
      "[15:09:55] WARNING: C:/Users/Administrator/workspace/xgboost-win64_release_1.5.1/src/learner.cc:1115: Starting in XGBoost 1.3.0, the default evaluation metric used with the objective 'binary:logistic' was changed from 'error' to 'logloss'. Explicitly set eval_metric if you'd like to restore the old behavior.\n"
     ]
    }
   ],
   "source": [
    "# Evaluating the best model on test set\n",
    "\n",
    "# load the full training data with folds\n",
    "df_train = all_df[0:891]\n",
    "df_test = x_test\n",
    "\n",
    "y_train = y\n",
    "\n",
    "x_train = df_train[features]\n",
    "x_test = df_test[features]\n",
    "# n_jobs=-1,max_depth=11,n_estimators=250, verbosity = 0\n",
    "best_classsifier=xgb.XGBClassifier(**xgb_best_params)\n",
    "y_pred = best_classsifier.fit(x_train,y_train).predict(x_test)"
   ]
  },
  {
   "cell_type": "markdown",
   "id": "2011f696",
   "metadata": {},
   "source": [
    "### Feature importance"
   ]
  },
  {
   "cell_type": "code",
   "execution_count": 20,
   "id": "f1586e82",
   "metadata": {},
   "outputs": [
    {
     "data": {
      "text/plain": [
       "<AxesSubplot:>"
      ]
     },
     "execution_count": 20,
     "metadata": {},
     "output_type": "execute_result"
    },
    {
     "data": {
      "image/png": "[encoded data removed]",
      "text/plain": [
       "<Figure size 432x288 with 1 Axes>"
      ]
     },
     "metadata": {
      "needs_background": "light"
     },
     "output_type": "display_data"
    }
   ],
   "source": [
    "%matplotlib inline \n",
    "(pd.Series(best_classsifier.feature_importances_, index=features)\n",
    "   .nlargest(20)\n",
    "   .plot(kind='barh'))"
   ]
  },
  {
   "cell_type": "markdown",
   "id": "b3c4eafe",
   "metadata": {},
   "source": [
    "### Preparing the submission file"
   ]
  },
  {
   "cell_type": "code",
   "execution_count": 21,
   "id": "4936c373",
   "metadata": {},
   "outputs": [],
   "source": [
    "df_test.reset_index(inplace=True)\n",
    "\n",
    "submission = pd.DataFrame({\n",
    "        \"PassengerId\": df_test[\"PassengerId\"],\n",
    "        \"Survived\": y_pred\n",
    "    })"
   ]
  },
  {
   "cell_type": "code",
   "execution_count": 22,
   "id": "65d14e2b",
   "metadata": {
    "scrolled": false
   },
   "outputs": [],
   "source": [
    "submission.to_csv('submission.csv', index=False)"
   ]
  }
 ],
 "metadata": {
  "kernelspec": {
   "display_name": "Python 3",
   "language": "python",
   "name": "python3"
  },
  "language_info": {
   "codemirror_mode": {
    "name": "ipython",
    "version": 3
   },
   "file_extension": ".py",
   "mimetype": "text/x-python",
   "name": "python",
   "nbconvert_exporter": "python",
   "pygments_lexer": "ipython3",
   "version": "3.8.8"
  },
  "vscode": {
   "interpreter": {
    "hash": "01121e1630c19f8c936edf0ba0fdeabe277dcaf2cfab9f1ceb772817adb87393"
   }
  }
 },
 "nbformat": 4,
 "nbformat_minor": 5
}
